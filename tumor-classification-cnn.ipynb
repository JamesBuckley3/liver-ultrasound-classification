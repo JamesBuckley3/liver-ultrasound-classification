{
 "cells": [
  {
   "cell_type": "markdown",
   "id": "d7f458ea",
   "metadata": {},
   "source": [
    "# Liver tumour Classification using a Convolutional Neural Network\n",
    "\n",
    "This notebook contains the full pipeline for training and evaluating a\n",
    "deep learning model to classify liver ultrasound images as Benign, Malignant, or Normal."
   ]
  },
  {
   "cell_type": "markdown",
   "id": "98772d87",
   "metadata": {},
   "source": [
    "## Setup"
   ]
  },
  {
   "cell_type": "markdown",
   "id": "f0bb1bd6",
   "metadata": {},
   "source": [
    "### Main imports and device checking"
   ]
  },
  {
   "cell_type": "code",
   "execution_count": 35,
   "id": "d1b56337",
   "metadata": {},
   "outputs": [],
   "source": [
    "import torch\n",
    "import torch.optim as optim\n",
    "\n",
    "import torchvision\n",
    "import torchvision.transforms as transforms"
   ]
  },
  {
   "cell_type": "code",
   "execution_count": 36,
   "id": "8a87581b",
   "metadata": {},
   "outputs": [
    {
     "name": "stdout",
     "output_type": "stream",
     "text": [
      "2.5.1+cu121\n",
      "12.1\n"
     ]
    }
   ],
   "source": [
    "print(torch.__version__)\n",
    "print(torch.version.cuda)"
   ]
  },
  {
   "cell_type": "code",
   "execution_count": 37,
   "id": "45a27234",
   "metadata": {},
   "outputs": [
    {
     "name": "stdout",
     "output_type": "stream",
     "text": [
      "Name: torch\n",
      "Version: 2.5.1+cu121\n",
      "Summary: Tensors and Dynamic neural networks in Python with strong GPU acceleration\n",
      "Home-page: https://pytorch.org/\n",
      "Author: PyTorch Team\n",
      "Author-email: packages@pytorch.org\n",
      "License: BSD-3-Clause\n",
      "Location: c:\\Users\\James\\py311-env\\Lib\\site-packages\n",
      "Requires: filelock, fsspec, jinja2, networkx, sympy, typing-extensions\n",
      "Required-by: torchaudio, torchvision\n",
      "Note: you may need to restart the kernel to use updated packages.\n"
     ]
    }
   ],
   "source": [
    "pip show torch"
   ]
  },
  {
   "cell_type": "code",
   "execution_count": 38,
   "id": "a3702f57",
   "metadata": {},
   "outputs": [
    {
     "name": "stdout",
     "output_type": "stream",
     "text": [
      "CUDA Available: True\n",
      "CUDA Device Name: NVIDIA GeForce GTX 970\n"
     ]
    }
   ],
   "source": [
    "print(\"CUDA Available:\", torch.cuda.is_available())\n",
    "print(\n",
    "    \"CUDA Device Name:\",\n",
    "    torch.cuda.get_device_name(0) if torch.cuda.is_available() else \"No GPU\",\n",
    ")"
   ]
  },
  {
   "cell_type": "code",
   "execution_count": 39,
   "id": "e559a38a",
   "metadata": {},
   "outputs": [
    {
     "data": {
      "text/plain": [
       "'cuda'"
      ]
     },
     "execution_count": 39,
     "metadata": {},
     "output_type": "execute_result"
    }
   ],
   "source": [
    "device = \"cuda\" if torch.cuda.is_available() else \"cpu\"\n",
    "device"
   ]
  },
  {
   "cell_type": "markdown",
   "id": "f663f0e9",
   "metadata": {},
   "source": [
    "### Loading and Transforming the Data"
   ]
  },
  {
   "cell_type": "markdown",
   "id": "0a231173",
   "metadata": {},
   "source": [
    "To my surprise there was better performance on the train and validation sets without flipping and rotation in the transform despite the small size of the dataset. For that reason I've gone with the basic transforms for a CNN here."
   ]
  },
  {
   "cell_type": "code",
   "execution_count": 40,
   "id": "53a0c85e",
   "metadata": {},
   "outputs": [],
   "source": [
    "# Standard image transformations for a pre-trained ImageNet model:\n",
    "# resize, convert to tensor, and normalise to [-1, 1].\n",
    "transform = transforms.Compose(\n",
    "    [\n",
    "        transforms.Resize((224, 224)),\n",
    "        transforms.ToTensor(),\n",
    "        transforms.Normalize((0.5, 0.5, 0.5), (0.5, 0.5, 0.5)),\n",
    "    ]\n",
    ")"
   ]
  },
  {
   "cell_type": "code",
   "execution_count": 41,
   "id": "4232b21a",
   "metadata": {},
   "outputs": [
    {
     "name": "stdout",
     "output_type": "stream",
     "text": [
      "Train size: 529\n",
      "Validation size: 59\n",
      "Test size: 147\n"
     ]
    }
   ],
   "source": [
    "%run src\\\\data_utils.py"
   ]
  },
  {
   "cell_type": "markdown",
   "id": "1072f3a1",
   "metadata": {},
   "source": [
    "Not much data in that Validation set."
   ]
  },
  {
   "cell_type": "code",
   "execution_count": 42,
   "id": "966bf9a9",
   "metadata": {},
   "outputs": [
    {
     "name": "stdout",
     "output_type": "stream",
     "text": [
      "label\n",
      "Malignant    313\n",
      "Benign       144\n",
      "Normal        72\n",
      "Name: count, dtype: int64\n",
      "label\n",
      "Malignant    35\n",
      "Benign       16\n",
      "Normal        8\n",
      "Name: count, dtype: int64\n",
      "label\n",
      "Malignant    87\n",
      "Benign       40\n",
      "Normal       20\n",
      "Name: count, dtype: int64\n",
      "label\n",
      "Malignant    348\n",
      "Benign       160\n",
      "Normal        80\n",
      "Name: count, dtype: int64\n"
     ]
    }
   ],
   "source": [
    "print(train_data[\"label\"].value_counts())\n",
    "print(val_data[\"label\"].value_counts())\n",
    "print(test_data[\"label\"].value_counts())\n",
    "print(train_val[\"label\"].value_counts())"
   ]
  },
  {
   "cell_type": "markdown",
   "id": "84d5a0f2",
   "metadata": {},
   "source": [
    "There's a good spread for each category across each set. It's concerning however that there's such a low amount of each category in the validation set."
   ]
  },
  {
   "cell_type": "code",
   "execution_count": 43,
   "id": "47569b2b",
   "metadata": {},
   "outputs": [
    {
     "data": {
      "text/html": [
       "<div>\n",
       "<style scoped>\n",
       "    .dataframe tbody tr th:only-of-type {\n",
       "        vertical-align: middle;\n",
       "    }\n",
       "\n",
       "    .dataframe tbody tr th {\n",
       "        vertical-align: top;\n",
       "    }\n",
       "\n",
       "    .dataframe thead th {\n",
       "        text-align: right;\n",
       "    }\n",
       "</style>\n",
       "<table border=\"1\" class=\"dataframe\">\n",
       "  <thead>\n",
       "    <tr style=\"text-align: right;\">\n",
       "      <th></th>\n",
       "      <th>image_path</th>\n",
       "      <th>label</th>\n",
       "    </tr>\n",
       "  </thead>\n",
       "  <tbody>\n",
       "    <tr>\n",
       "      <th>484</th>\n",
       "      <td>C:\\Users\\James\\Documents\\Portfolio\\liver-ultra...</td>\n",
       "      <td>Malignant</td>\n",
       "    </tr>\n",
       "    <tr>\n",
       "      <th>218</th>\n",
       "      <td>C:\\Users\\James\\Documents\\Portfolio\\liver-ultra...</td>\n",
       "      <td>Malignant</td>\n",
       "    </tr>\n",
       "    <tr>\n",
       "      <th>148</th>\n",
       "      <td>C:\\Users\\James\\Documents\\Portfolio\\liver-ultra...</td>\n",
       "      <td>Benign</td>\n",
       "    </tr>\n",
       "    <tr>\n",
       "      <th>173</th>\n",
       "      <td>C:\\Users\\James\\Documents\\Portfolio\\liver-ultra...</td>\n",
       "      <td>Benign</td>\n",
       "    </tr>\n",
       "    <tr>\n",
       "      <th>641</th>\n",
       "      <td>C:\\Users\\James\\Documents\\Portfolio\\liver-ultra...</td>\n",
       "      <td>Normal</td>\n",
       "    </tr>\n",
       "    <tr>\n",
       "      <th>...</th>\n",
       "      <td>...</td>\n",
       "      <td>...</td>\n",
       "    </tr>\n",
       "    <tr>\n",
       "      <th>464</th>\n",
       "      <td>C:\\Users\\James\\Documents\\Portfolio\\liver-ultra...</td>\n",
       "      <td>Malignant</td>\n",
       "    </tr>\n",
       "    <tr>\n",
       "      <th>264</th>\n",
       "      <td>C:\\Users\\James\\Documents\\Portfolio\\liver-ultra...</td>\n",
       "      <td>Malignant</td>\n",
       "    </tr>\n",
       "    <tr>\n",
       "      <th>230</th>\n",
       "      <td>C:\\Users\\James\\Documents\\Portfolio\\liver-ultra...</td>\n",
       "      <td>Malignant</td>\n",
       "    </tr>\n",
       "    <tr>\n",
       "      <th>710</th>\n",
       "      <td>C:\\Users\\James\\Documents\\Portfolio\\liver-ultra...</td>\n",
       "      <td>Normal</td>\n",
       "    </tr>\n",
       "    <tr>\n",
       "      <th>294</th>\n",
       "      <td>C:\\Users\\James\\Documents\\Portfolio\\liver-ultra...</td>\n",
       "      <td>Malignant</td>\n",
       "    </tr>\n",
       "  </tbody>\n",
       "</table>\n",
       "<p>529 rows × 2 columns</p>\n",
       "</div>"
      ],
      "text/plain": [
       "                                            image_path      label\n",
       "484  C:\\Users\\James\\Documents\\Portfolio\\liver-ultra...  Malignant\n",
       "218  C:\\Users\\James\\Documents\\Portfolio\\liver-ultra...  Malignant\n",
       "148  C:\\Users\\James\\Documents\\Portfolio\\liver-ultra...     Benign\n",
       "173  C:\\Users\\James\\Documents\\Portfolio\\liver-ultra...     Benign\n",
       "641  C:\\Users\\James\\Documents\\Portfolio\\liver-ultra...     Normal\n",
       "..                                                 ...        ...\n",
       "464  C:\\Users\\James\\Documents\\Portfolio\\liver-ultra...  Malignant\n",
       "264  C:\\Users\\James\\Documents\\Portfolio\\liver-ultra...  Malignant\n",
       "230  C:\\Users\\James\\Documents\\Portfolio\\liver-ultra...  Malignant\n",
       "710  C:\\Users\\James\\Documents\\Portfolio\\liver-ultra...     Normal\n",
       "294  C:\\Users\\James\\Documents\\Portfolio\\liver-ultra...  Malignant\n",
       "\n",
       "[529 rows x 2 columns]"
      ]
     },
     "execution_count": 43,
     "metadata": {},
     "output_type": "execute_result"
    }
   ],
   "source": [
    "train_data"
   ]
  },
  {
   "cell_type": "code",
   "execution_count": 44,
   "id": "d64f6f60",
   "metadata": {},
   "outputs": [],
   "source": [
    "from torch.utils.data import Dataset\n",
    "from PIL import Image\n",
    "\n",
    "\n",
    "class LiverDataset(Dataset):\n",
    "    \"\"\"\n",
    "    A custom PyTorch Dataset for loading liver scan images and their corresponding labels.\n",
    "\n",
    "    This dataset expects a Pandas DataFrame with 'image_path' and 'label' columns.\n",
    "    It maps string labels (\"Benign\", \"Malignant\", \"Normal\") to numerical values (0, 1, 2).\n",
    "    Images are loaded using PIL and can be optionally transformed.\n",
    "    \"\"\"\n",
    "\n",
    "    def __init__(self, dataframe, transform=None):\n",
    "        \"\"\"\n",
    "        Initializes the LiverDataset.\n",
    "\n",
    "        Args:\n",
    "            dataframe (pd.DataFrame): A Pandas DataFrame containing image paths and labels.\n",
    "                                      Expected columns are 'image_path' and 'label'.\n",
    "            transform (callable, optional): A function/transform to be applied to the images.\n",
    "                                            Defaults to None.\n",
    "        \"\"\"\n",
    "        self.data = dataframe.reset_index(drop=True)\n",
    "        self.transform = transform\n",
    "        self.label_map = {\"Benign\": 0, \"Malignant\": 1, \"Normal\": 2}\n",
    "\n",
    "    def __len__(self):\n",
    "        \"\"\"\n",
    "        Returns the total number of samples in the dataset.\n",
    "\n",
    "        Returns:\n",
    "            int: The number of samples.\n",
    "        \"\"\"\n",
    "        return len(self.data)\n",
    "\n",
    "    def __getitem__(self, idx):\n",
    "        \"\"\"\n",
    "        Retrieves an image and its corresponding label from the dataset at the given index.\n",
    "\n",
    "        The image is loaded from the specified path, converted to RGB, and then\n",
    "        the transforms are performed. The label is mapped from its string representation to \n",
    "        a numerical value.\n",
    "\n",
    "        Args:\n",
    "            idx (int): The index of the sample to retrieve.\n",
    "\n",
    "        Returns:\n",
    "            tuple: A tuple containing:\n",
    "                - image (torch.Tensor or PIL.Image.Image): The loaded and transformed image.\n",
    "                - label (int): The numerical label corresponding to the image.\n",
    "        \"\"\"\n",
    "        img_path = self.data.loc[idx, \"image_path\"]\n",
    "        label = self.label_map[self.data.loc[idx, \"label\"]]\n",
    "\n",
    "        image = Image.open(img_path).convert(\"RGB\")  # Ensure 3 channels\n",
    "        if self.transform:\n",
    "            image = self.transform(image)\n",
    "\n",
    "        return image, label"
   ]
  },
  {
   "cell_type": "code",
   "execution_count": 45,
   "id": "f7ec8d7d",
   "metadata": {},
   "outputs": [],
   "source": [
    "BATCH_SIZE = 32"
   ]
  },
  {
   "cell_type": "code",
   "execution_count": 46,
   "id": "144de74a",
   "metadata": {},
   "outputs": [],
   "source": [
    "from torch.utils.data import DataLoader\n",
    "\n",
    "# Initializes custom 'LiverDataset' objects from pre-split DataFrames (train_val, val_data, test_data)\n",
    "# and applies the defined image 'transform'. These datasets are then wrapped in DataLoaders\n",
    "# to manage batching, shuffling (for training), and efficient data loading for\n",
    "# model training, validation, and final testing.\n",
    "\n",
    "# Note on train_data: The 'train_val' split is used here as the primary training set\n",
    "# after model hyperparameter tuning is complete, leveraging more data for final training.\n",
    "\n",
    "train_data = LiverDataset(train_val, transform=transform)\n",
    "val_data = LiverDataset(val_data, transform=transform)\n",
    "test_data = LiverDataset(test_data, transform=transform)\n",
    "\n",
    "train_loader = DataLoader(train_data, batch_size=BATCH_SIZE, shuffle=True)\n",
    "val_loader = DataLoader(val_data, batch_size=BATCH_SIZE)\n",
    "test_loader = DataLoader(test_data, batch_size=BATCH_SIZE)"
   ]
  },
  {
   "cell_type": "code",
   "execution_count": 47,
   "id": "3f6561bd",
   "metadata": {},
   "outputs": [
    {
     "data": {
      "text/plain": [
       "<__main__.LiverDataset at 0x1f388a5ea90>"
      ]
     },
     "execution_count": 47,
     "metadata": {},
     "output_type": "execute_result"
    }
   ],
   "source": [
    "train_data"
   ]
  },
  {
   "cell_type": "code",
   "execution_count": 48,
   "id": "885627c6",
   "metadata": {},
   "outputs": [],
   "source": [
    "class_names = [\"Benign\", \"Malignant\", \"Normal\"]"
   ]
  },
  {
   "cell_type": "markdown",
   "id": "e7c43b46",
   "metadata": {},
   "source": [
    "## Building the CNN"
   ]
  },
  {
   "cell_type": "markdown",
   "id": "87f7e226",
   "metadata": {},
   "source": [
    "### Preparing the Layers and Training Loop"
   ]
  },
  {
   "cell_type": "markdown",
   "id": "d4ba2f5e",
   "metadata": {},
   "source": [
    "The network contains two convolutional layers followed by ReLU, max-pooling,\n",
    "and three fully connected layers. Dropout and batch normalization are used\n",
    "to prevent overfitting."
   ]
  },
  {
   "cell_type": "code",
   "execution_count": 49,
   "id": "94224639",
   "metadata": {},
   "outputs": [],
   "source": [
    "import torch.nn as nn\n",
    "import torch.nn.functional as F\n",
    "\n",
    "\n",
    "class NeuralNet(nn.Module):\n",
    "    \"\"\"\n",
    "    A Convolutional Neural Network (CNN) for image classification.\n",
    "\n",
    "    This network consists of two convolutional layers followed by max-pooling,\n",
    "    batch normalisation, and ReLU activations. The features are then flattened\n",
    "    and passed through three fully connected layers with dropout for regularisation.\n",
    "    The final layer outputs scores for 3 classes.\n",
    "\n",
    "    Assumes input images are of size (Batch_Size, 3, 224, 224).\n",
    "    \"\"\"\n",
    "\n",
    "    def __init__(self):\n",
    "        \"\"\"\n",
    "        Initialises the layers of the NeuralNet.\n",
    "        \"\"\"\n",
    "        super().__init__()\n",
    "\n",
    "        # Convolutional Block 1\n",
    "        # Input: (Batch_Size, 3, 224, 224) - assuming standard RGB image\n",
    "        # After Conv1: (Batch_Size, 12, 220, 220) - formula: (H_in - K_H + 2P_H)/S_H + 1\n",
    "        # H_in=224, K_H=5, P_H=0, S_H=1 => (224 - 5 + 0)/1 + 1 = 220\n",
    "        self.conv1 = nn.Conv2d(in_channels=3, out_channels=12, kernel_size=5)\n",
    "        self.bn1 = nn.BatchNorm2d(num_features=12) # Normalises outputs of conv1\n",
    "\n",
    "        # Max Pooling layer - reduces spatial dimensions by half\n",
    "        # After Pool: (Batch_Size, 12, 110, 110)\n",
    "        self.pool = nn.MaxPool2d(kernel_size=2, stride=2)\n",
    "\n",
    "        # Convolutional Block 2\n",
    "        # Input: (Batch_Size, 12, 110, 110) - from previous pooling\n",
    "        # After Conv2: (Batch_Size, 24, 106, 106) - formula: (110 - 5 + 0)/1 + 1 = 106\n",
    "        self.conv2 = nn.Conv2d(in_channels=12, out_channels=24, kernel_size=5)\n",
    "        self.bn2 = nn.BatchNorm2d(num_features=24) # Normalises outputs of conv2\n",
    "\n",
    "        # Calculate the flattened size after the convolutional and pooling layers.\n",
    "        # After the second pooling, the feature map size will be (24, 53, 53).\n",
    "        # H_after_pool1 = 220 / 2 = 110\n",
    "        # H_after_conv2 = 110 - 5 + 1 = 106\n",
    "        # H_after_pool2 = 106 / 2 = 53\n",
    "        self.fc1 = nn.Linear(in_features=24 * 53 * 53, out_features=120)\n",
    "        self.dropout1 = nn.Dropout(p=0.3) # Dropout for regularisation, prevents overfitting\n",
    "\n",
    "        self.fc2 = nn.Linear(in_features=120, out_features=84)\n",
    "        self.dropout2 = nn.Dropout(p=0.3) # Another dropout layer\n",
    "\n",
    "        self.fc3 = nn.Linear(in_features=84, out_features=3) # Output layer for 3 classes\n",
    "\n",
    "    def forward(self, x):\n",
    "        \"\"\"\n",
    "        Defines the forward pass of the NeuralNet.\n",
    "\n",
    "        Args:\n",
    "            x (torch.Tensor): The input tensor, expected to be of shape\n",
    "                              (Batch_Size, 3, H, W), typically (Batch_Size, 3, 224, 224).\n",
    "\n",
    "        Returns:\n",
    "            torch.Tensor: The output tensor with raw scores for each of the 3 classes.\n",
    "                          Shape: (Batch_Size, 3).\n",
    "        \"\"\"\n",
    "        # Convolutional Block 1: Conv -> BatchNorm -> ReLU -> MaxPool\n",
    "        # Input: (B, 3, 224, 224) -> Output: (B, 12, 110, 110)\n",
    "        x = self.pool(F.relu(self.bn1(self.conv1(x))))\n",
    "\n",
    "        # Convolutional Block 2: Conv -> BatchNorm -> ReLU -> MaxPool\n",
    "        # Input: (B, 12, 110, 110) -> Output: (B, 24, 53, 53)\n",
    "        x = self.pool(F.relu(self.bn2(self.conv2(x))))\n",
    "\n",
    "        # Flatten the feature map from (Batch_Size, Channels, Height, Width)\n",
    "        # to (Batch_Size, Channels * Height * Width) for the fully connected layers.\n",
    "        x = torch.flatten(x, 1) # Start flattening from dimension 1 (channel dimension)\n",
    "\n",
    "        # Fully Connected Layer 1: Linear -> ReLU -> Dropout\n",
    "        x = self.dropout1(F.relu(self.fc1(x)))\n",
    "\n",
    "        # Fully Connected Layer 2: Linear -> ReLU -> Dropout\n",
    "        x = self.dropout2(F.relu(self.fc2(x)))\n",
    "\n",
    "        # Fully Connected Layer 3 (Output Layer): Linear\n",
    "        # No activation function here, as this typically outputs logits/raw scores\n",
    "        # for classification, which are then passed to a loss function like CrossEntropyLoss.\n",
    "        x = self.fc3(x)\n",
    "        return x"
   ]
  },
  {
   "cell_type": "markdown",
   "id": "7a488a70",
   "metadata": {},
   "source": [
    "Have also experimented with SGD (Stochastic Gradient Descent) and a few other lr (learning rate) values and found Adam with 0.0005 was optimal here."
   ]
  },
  {
   "cell_type": "code",
   "execution_count": 50,
   "id": "735134ef",
   "metadata": {},
   "outputs": [],
   "source": [
    "# Initialises the neural network model, moves it to the specified device (CPU/GPU),\n",
    "# defines the Cross-Entropy Loss for multi-class classification, and sets up\n",
    "# the Adam optimiser with a learning rate of 0.0005 and L2 regularisation (weight decay)\n",
    "# of 1e-5 to update the model's parameters during training.\n",
    "\n",
    "net = NeuralNet().to(device)\n",
    "loss_function = nn.CrossEntropyLoss()\n",
    "optimizer = optim.Adam(net.parameters(), lr=0.0005, weight_decay=1e-5)"
   ]
  },
  {
   "cell_type": "markdown",
   "id": "9986f82b",
   "metadata": {},
   "source": [
    "Due to having older hardware I implemented an early stopping function for when the validation loss is no longer decreasing as 30 epoch training usually takes around 3-4 minutes which at the end isn't a big deal but for tuning hyperparameters it saves a lot of time."
   ]
  },
  {
   "cell_type": "code",
   "execution_count": 51,
   "id": "770f9ff0",
   "metadata": {},
   "outputs": [],
   "source": [
    "import numpy as np\n",
    "\n",
    "\n",
    "class EarlyStopping:\n",
    "    \"\"\"\n",
    "    Implements an early stopping mechanism to halt training when a monitored\n",
    "    validation metric (e.g., validation loss) stops improving.\n",
    "\n",
    "    This helps to prevent overfitting by saving the model state corresponding\n",
    "    to the best observed validation performance.\n",
    "\n",
    "    Attributes:\n",
    "        patience (int):\n",
    "            How many epochs to wait for improvement before stopping.\n",
    "        verbose (bool):\n",
    "            If True, prints a message for each counter increment and when\n",
    "            the best model is saved.\n",
    "        path (str):\n",
    "            File path where the best model's state_dict will be saved.\n",
    "        counter (int):\n",
    "            Internal counter to track epochs without improvement.\n",
    "        best_loss (float):\n",
    "            Stores the minimum validation loss observed so far. Initialised to infinity.\n",
    "        early_stop (bool):\n",
    "            Flag set to True when training should be stopped.\n",
    "    \"\"\"\n",
    "\n",
    "    def __init__(self, patience=5, verbose=False, path=\"models\\\\best_model.pth\"):\n",
    "        \"\"\"\n",
    "        Initialises the EarlyStopping instance.\n",
    "\n",
    "        Args:\n",
    "            patience (int, optional):\n",
    "                Number of epochs with no improvement after which training will be stopped.\n",
    "                Defaults to 5.\n",
    "            verbose (bool, optional):\n",
    "                If True, prints messages about early stopping progress and model saving.\n",
    "                Defaults to False.\n",
    "            path (str, optional):\n",
    "                Filename (including path) where the best model's state_dict will be saved.\n",
    "                Defaults to \"best_model.pth\".\n",
    "        \"\"\"\n",
    "        self.patience = patience\n",
    "        self.verbose = verbose\n",
    "        self.counter = 0\n",
    "        self.best_loss = np.inf  # Initialise with positive infinity\n",
    "        self.early_stop = False\n",
    "        self.path = path\n",
    "\n",
    "    def __call__(self, val_loss, model):\n",
    "        \"\"\"\n",
    "        Updates the early stopping state based on the current validation loss.\n",
    "\n",
    "        This method should be called after each epoch's validation phase.\n",
    "        It checks if the validation loss has improved. If it has, the best\n",
    "        loss is updated, the counter is reset, and the current model state\n",
    "        is saved. If not, the counter is incremented, and if it reaches\n",
    "        'patience', the 'early_stop' flag is set to True.\n",
    "\n",
    "        Args:\n",
    "            val_loss (float):\n",
    "                The validation loss obtained in the current epoch.\n",
    "            model (torch.nn.Module):\n",
    "                The PyTorch model whose state_dict should be saved if\n",
    "                a new best validation loss is observed.\n",
    "        \"\"\"\n",
    "        if val_loss < self.best_loss:\n",
    "            self.best_loss = val_loss\n",
    "            self.save_checkpoint(model)\n",
    "            self.counter = 0  # Reset counter if validation loss improves\n",
    "        else:\n",
    "            self.counter += 1  # Increment counter if no improvement\n",
    "            if self.verbose:\n",
    "                print(f\"EarlyStopping counter: {self.counter} out of {self.patience}\")\n",
    "            if self.counter >= self.patience:\n",
    "                self.early_stop = True # Set flag to stop training\n",
    "\n",
    "    def save_checkpoint(self, model):\n",
    "        \"\"\"\n",
    "        Saves the current state_dict of the model to the specified path.\n",
    "\n",
    "        This method is called internally when a new best validation loss is achieved.\n",
    "\n",
    "        Args:\n",
    "            model (torch.nn.Module):\n",
    "                The PyTorch model whose state_dict is to be saved.\n",
    "        \"\"\"\n",
    "\n",
    "        torch.save(model.state_dict(), self.path)\n",
    "        if self.verbose:\n",
    "            print(f\"Validation loss decreased ({self.best_loss:.6f}). Saving model to {self.path}\")"
   ]
  },
  {
   "cell_type": "code",
   "execution_count": 52,
   "id": "b7b98902",
   "metadata": {},
   "outputs": [],
   "source": [
    "def evaluate_model(net, data_loader, criterion, device):\n",
    "    \"\"\"\n",
    "    Evaluates the model on the given data loader.\n",
    "\n",
    "    Args:\n",
    "        net (torch.nn.Module): The neural network model.\n",
    "        data_loader (torch.utils.data.DataLoader): The data loader (e.g., val_loader or test_loader).\n",
    "        criterion (torch.nn.Module): The loss function.\n",
    "        device (torch.device): The device to run the evaluation on (e.g., 'cpu' or 'cuda').\n",
    "\n",
    "    Returns:\n",
    "        tuple: A tuple containing the average loss, accuracy,\n",
    "               a list of all predictions, and a list of all true labels.\n",
    "    \"\"\"\n",
    "    net.eval()  # Set the model to evaluation mode\n",
    "    total_loss = 0.0\n",
    "    correct_predictions = 0\n",
    "    total_samples = 0\n",
    "\n",
    "    all_preds = []\n",
    "    all_labels = []\n",
    "\n",
    "    with torch.no_grad():  # Disable gradient calculations during evaluation\n",
    "        for inputs, labels in data_loader:\n",
    "            inputs, labels = inputs.to(device), labels.to(device)\n",
    "            outputs = net(inputs)\n",
    "            loss = criterion(outputs, labels)\n",
    "\n",
    "            total_loss += loss.item() * labels.size(0)\n",
    "            _, predicted = torch.max(outputs, 1)\n",
    "            correct_predictions += (predicted == labels).sum().item()\n",
    "            total_samples += labels.size(0)\n",
    "\n",
    "            # Convert predicted and true labels to CPU and then to NumPy arrays\n",
    "            # Then extend the Python lists\n",
    "            all_preds.extend(predicted.cpu().numpy())\n",
    "            all_labels.extend(labels.cpu().numpy())\n",
    "\n",
    "    avg_loss = total_loss / total_samples\n",
    "    accuracy = 100 * correct_predictions / total_samples\n",
    "\n",
    "    return avg_loss, accuracy, all_preds, all_labels"
   ]
  },
  {
   "cell_type": "markdown",
   "id": "6e4e2836",
   "metadata": {},
   "source": [
    "## Running the CNN on the Data"
   ]
  },
  {
   "cell_type": "markdown",
   "id": "328a7b68",
   "metadata": {},
   "source": [
    "### Training on the Train Set and Testing on the Validation Set"
   ]
  },
  {
   "cell_type": "code",
   "execution_count": 53,
   "id": "28144876",
   "metadata": {},
   "outputs": [
    {
     "name": "stderr",
     "output_type": "stream",
     "text": [
      "c:\\Users\\James\\py311-env\\Lib\\site-packages\\torch\\optim\\lr_scheduler.py:62: UserWarning: The verbose parameter is deprecated. Please use get_last_lr() to access the learning rate.\n",
      "  warnings.warn(\n"
     ]
    },
    {
     "name": "stdout",
     "output_type": "stream",
     "text": [
      "Epoch 1/30 | Train Loss: 1.5926, Train Acc: 47.79% | Val Loss: 0.8239, Val Acc: 67.80%\n",
      "Validation loss decreased (0.823875). Saving model to models\\best_model.pth\n",
      "Epoch 2/30 | Train Loss: 0.9786, Train Acc: 59.69% | Val Loss: 0.7071, Val Acc: 66.10%\n",
      "Validation loss decreased (0.707127). Saving model to models\\best_model.pth\n",
      "Epoch 3/30 | Train Loss: 0.7969, Train Acc: 62.24% | Val Loss: 0.6779, Val Acc: 76.27%\n",
      "Validation loss decreased (0.677872). Saving model to models\\best_model.pth\n",
      "Epoch 4/30 | Train Loss: 0.7353, Train Acc: 64.80% | Val Loss: 0.6111, Val Acc: 71.19%\n",
      "Validation loss decreased (0.611083). Saving model to models\\best_model.pth\n",
      "Epoch 5/30 | Train Loss: 0.6792, Train Acc: 69.39% | Val Loss: 0.5654, Val Acc: 74.58%\n",
      "Validation loss decreased (0.565401). Saving model to models\\best_model.pth\n",
      "Epoch 6/30 | Train Loss: 0.6692, Train Acc: 71.09% | Val Loss: 0.6255, Val Acc: 69.49%\n",
      "EarlyStopping counter: 1 out of 5\n",
      "Epoch 7/30 | Train Loss: 0.6257, Train Acc: 70.41% | Val Loss: 0.5172, Val Acc: 74.58%\n",
      "Validation loss decreased (0.517152). Saving model to models\\best_model.pth\n",
      "Epoch 8/30 | Train Loss: 0.5367, Train Acc: 74.83% | Val Loss: 0.4344, Val Acc: 83.05%\n",
      "Validation loss decreased (0.434445). Saving model to models\\best_model.pth\n",
      "Epoch 9/30 | Train Loss: 0.4809, Train Acc: 78.23% | Val Loss: 0.3891, Val Acc: 79.66%\n",
      "Validation loss decreased (0.389119). Saving model to models\\best_model.pth\n",
      "Epoch 10/30 | Train Loss: 0.4479, Train Acc: 80.61% | Val Loss: 0.3632, Val Acc: 83.05%\n",
      "Validation loss decreased (0.363196). Saving model to models\\best_model.pth\n",
      "Epoch 11/30 | Train Loss: 0.3933, Train Acc: 82.31% | Val Loss: 0.2919, Val Acc: 86.44%\n",
      "Validation loss decreased (0.291892). Saving model to models\\best_model.pth\n",
      "Epoch 12/30 | Train Loss: 0.3372, Train Acc: 85.88% | Val Loss: 0.2509, Val Acc: 89.83%\n",
      "Validation loss decreased (0.250871). Saving model to models\\best_model.pth\n",
      "Epoch 13/30 | Train Loss: 0.3071, Train Acc: 87.59% | Val Loss: 0.2355, Val Acc: 88.14%\n",
      "Validation loss decreased (0.235457). Saving model to models\\best_model.pth\n",
      "Epoch 14/30 | Train Loss: 0.3357, Train Acc: 85.54% | Val Loss: 0.3150, Val Acc: 88.14%\n",
      "EarlyStopping counter: 1 out of 5\n",
      "Epoch 15/30 | Train Loss: 0.3021, Train Acc: 88.95% | Val Loss: 0.2494, Val Acc: 88.14%\n",
      "EarlyStopping counter: 2 out of 5\n",
      "Epoch 16/30 | Train Loss: 0.2531, Train Acc: 89.29% | Val Loss: 0.1779, Val Acc: 91.53%\n",
      "Validation loss decreased (0.177923). Saving model to models\\best_model.pth\n",
      "Epoch 17/30 | Train Loss: 0.2295, Train Acc: 90.65% | Val Loss: 0.1479, Val Acc: 91.53%\n",
      "Validation loss decreased (0.147893). Saving model to models\\best_model.pth\n",
      "Epoch 18/30 | Train Loss: 0.2365, Train Acc: 90.82% | Val Loss: 0.1699, Val Acc: 91.53%\n",
      "EarlyStopping counter: 1 out of 5\n",
      "Epoch 19/30 | Train Loss: 0.1677, Train Acc: 93.20% | Val Loss: 0.0529, Val Acc: 100.00%\n",
      "Validation loss decreased (0.052896). Saving model to models\\best_model.pth\n",
      "Epoch 20/30 | Train Loss: 0.1900, Train Acc: 92.35% | Val Loss: 0.0798, Val Acc: 98.31%\n",
      "EarlyStopping counter: 1 out of 5\n",
      "Epoch 21/30 | Train Loss: 0.1592, Train Acc: 92.86% | Val Loss: 0.0450, Val Acc: 100.00%\n",
      "Validation loss decreased (0.045028). Saving model to models\\best_model.pth\n",
      "Epoch 22/30 | Train Loss: 0.1375, Train Acc: 94.90% | Val Loss: 0.0282, Val Acc: 100.00%\n",
      "Validation loss decreased (0.028210). Saving model to models\\best_model.pth\n",
      "Epoch 23/30 | Train Loss: 0.1112, Train Acc: 95.24% | Val Loss: 0.0352, Val Acc: 100.00%\n",
      "EarlyStopping counter: 1 out of 5\n",
      "Epoch 24/30 | Train Loss: 0.1200, Train Acc: 94.56% | Val Loss: 0.0314, Val Acc: 100.00%\n",
      "EarlyStopping counter: 2 out of 5\n",
      "Epoch 25/30 | Train Loss: 0.0969, Train Acc: 95.41% | Val Loss: 0.0301, Val Acc: 100.00%\n",
      "EarlyStopping counter: 3 out of 5\n",
      "Epoch 26/30 | Train Loss: 0.1105, Train Acc: 94.90% | Val Loss: 0.0797, Val Acc: 96.61%\n",
      "EarlyStopping counter: 4 out of 5\n",
      "Epoch 27/30 | Train Loss: 0.1124, Train Acc: 94.39% | Val Loss: 0.0172, Val Acc: 100.00%\n",
      "Validation loss decreased (0.017241). Saving model to models\\best_model.pth\n",
      "Epoch 28/30 | Train Loss: 0.1169, Train Acc: 94.05% | Val Loss: 0.0111, Val Acc: 100.00%\n",
      "Validation loss decreased (0.011066). Saving model to models\\best_model.pth\n",
      "Epoch 29/30 | Train Loss: 0.1021, Train Acc: 94.73% | Val Loss: 0.0132, Val Acc: 100.00%\n",
      "EarlyStopping counter: 1 out of 5\n",
      "Epoch 30/30 | Train Loss: 0.0762, Train Acc: 96.60% | Val Loss: 0.0098, Val Acc: 100.00%\n",
      "Validation loss decreased (0.009812). Saving model to models\\best_model.pth\n"
     ]
    }
   ],
   "source": [
    "from torch.optim.lr_scheduler import ReduceLROnPlateau\n",
    "\n",
    "\n",
    "# This section defines key training hyperparameters and initialises the\n",
    "# model, loss function, optimiser, learning rate scheduler, and early stopping\n",
    "# mechanism, preparing the environment for the training process.\n",
    "\n",
    "epochs = 30  # Total number of training epochs to run.\n",
    "net = NeuralNet().to(device) # Initialises the custom neural network model and moves it to the specified device (CPU/GPU).\n",
    "criterion = nn.CrossEntropyLoss() # Defines the loss function, Cross-Entropy Loss, suitable for multi-class classification.\n",
    "optimizer = optim.Adam(net.parameters(), lr=0.0005) # Initialises the Adam optimiser to update model weights with a learning rate of 0.0005.\n",
    "\n",
    "# The scheduler reduces the learning rate when the validation loss stops improving.\n",
    "# - optimiser: The optimiser whose learning rate will be adjusted.\n",
    "# - mode='min': Monitors a metric that should be minimised (here, validation loss).\n",
    "# - patience=3: After 3 epochs with no improvement, the learning rate will be reduced.\n",
    "# - factor=0.5: The learning rate will be multiplied by 0.5 (halved) when reduced.\n",
    "# - verbose=True: Prints a message when the learning rate is adjusted.\n",
    "scheduler = ReduceLROnPlateau(\n",
    "    optimizer, mode=\"min\", patience=3, factor=0.5, verbose=True\n",
    ")\n",
    "\n",
    "# This halts training if validation loss doesn't improve for a set number of epochs.\n",
    "# - patience=5: Allows up to 5 epochs without improvement before stopping.\n",
    "# - verbose=True: Prints messages related to early stopping progress.\n",
    "early_stopping = EarlyStopping(patience=5, verbose=True)\n",
    "\n",
    "\n",
    "# The following code is the training and validation loop\n",
    "# It iterates through the specified number of epochs, performing training,\n",
    "# validation, and updating model components (optimiser, scheduler, early stopping).\n",
    "\n",
    "for epoch in range(epochs):\n",
    "    net.train()  # Set the model to training mode (e.g., enables dropout, BatchNorm updates).\n",
    "    train_loss = 0.0\n",
    "    correct_train = 0\n",
    "    total_train = 0\n",
    "\n",
    "    # Training phase: Iterate over the training (and validation) dataset\n",
    "    for inputs, labels in train_loader:\n",
    "        inputs, labels = inputs.to(device), labels.to(device) # Move data to the specified device.\n",
    "        optimizer.zero_grad()  # Reset gradients from the previous iteration.\n",
    "        outputs = net(inputs)  # Forward pass: compute model outputs.\n",
    "        loss = criterion(outputs, labels) # Calculate the loss.\n",
    "        loss.backward()  # Backward pass: compute gradients.\n",
    "        optimizer.step()  # Update model parameters using the optimiser.\n",
    "\n",
    "        train_loss += loss.item() * labels.size(0) # Accumulate batch loss.\n",
    "        _, predicted = torch.max(outputs, 1) # Get the index of the max log-probability as the prediction.\n",
    "        correct_train += (predicted == labels).sum().item() # Count correct predictions.\n",
    "        total_train += labels.size(0) # Accumulate total samples.\n",
    "\n",
    "    avg_train_loss = train_loss / total_train # Calculate average training loss for the epoch.\n",
    "    train_acc = 100 * correct_train / total_train # Calculate training accuracy for the epoch.\n",
    "\n",
    "    # Validation phase: Evaluate the model on just the validation set.\n",
    "    # Assumes 'evaluate_model' function returns average validation loss, accuracy, predictions, and labels.\n",
    "    avg_val_loss, val_acc, val_preds, val_labels = evaluate_model(net, val_loader, criterion, device)\n",
    "\n",
    "    # Print epoch summary\n",
    "    print(\n",
    "        f\"Epoch {epoch+1}/{epochs} | \"\n",
    "        f\"Train Loss: {avg_train_loss:.4f}, Train Acc: {train_acc:.2f}% | \"\n",
    "        f\"Val Loss: {avg_val_loss:.4f}, Val Acc: {val_acc:.2f}%\"\n",
    "    )\n",
    "\n",
    "    # Step the learning rate scheduler: Adjusts LR based on validation loss.\n",
    "    scheduler.step(avg_val_loss)\n",
    "\n",
    "    # Step the early stopping mechanism: Checks if training should be halted.\n",
    "    # It also handles saving the best model based on validation loss.\n",
    "    early_stopping(avg_val_loss, net)\n",
    "\n",
    "    # Check if early stopping condition is met\n",
    "    if early_stopping.early_stop:\n",
    "        print(\"Early stopping triggered. Training halted.\")\n",
    "        break # Exit the training loop"
   ]
  },
  {
   "cell_type": "markdown",
   "id": "06b939dc",
   "metadata": {},
   "source": [
    "### Saving and Loading the Best Model"
   ]
  },
  {
   "cell_type": "code",
   "execution_count": 54,
   "id": "26458a4d",
   "metadata": {},
   "outputs": [
    {
     "name": "stderr",
     "output_type": "stream",
     "text": [
      "C:\\Users\\James\\AppData\\Local\\Temp\\ipykernel_19384\\2085768746.py:7: FutureWarning: You are using `torch.load` with `weights_only=False` (the current default value), which uses the default pickle module implicitly. It is possible to construct malicious pickle data which will execute arbitrary code during unpickling (See https://github.com/pytorch/pytorch/blob/main/SECURITY.md#untrusted-models for more details). In a future release, the default value for `weights_only` will be flipped to `True`. This limits the functions that could be executed during unpickling. Arbitrary objects will no longer be allowed to be loaded via this mode unless they are explicitly allowlisted by the user via `torch.serialization.add_safe_globals`. We recommend you start setting `weights_only=True` for any use case where you don't have full control of the loaded file. Please open an issue on GitHub for any issues related to this experimental feature.\n",
      "  best_model.load_state_dict(torch.load(\"models\\\\best_model.pth\"))\n"
     ]
    },
    {
     "data": {
      "text/plain": [
       "NeuralNet(\n",
       "  (conv1): Conv2d(3, 12, kernel_size=(5, 5), stride=(1, 1))\n",
       "  (bn1): BatchNorm2d(12, eps=1e-05, momentum=0.1, affine=True, track_running_stats=True)\n",
       "  (pool): MaxPool2d(kernel_size=2, stride=2, padding=0, dilation=1, ceil_mode=False)\n",
       "  (conv2): Conv2d(12, 24, kernel_size=(5, 5), stride=(1, 1))\n",
       "  (bn2): BatchNorm2d(24, eps=1e-05, momentum=0.1, affine=True, track_running_stats=True)\n",
       "  (fc1): Linear(in_features=67416, out_features=120, bias=True)\n",
       "  (dropout1): Dropout(p=0.3, inplace=False)\n",
       "  (fc2): Linear(in_features=120, out_features=84, bias=True)\n",
       "  (dropout2): Dropout(p=0.3, inplace=False)\n",
       "  (fc3): Linear(in_features=84, out_features=3, bias=True)\n",
       ")"
      ]
     },
     "execution_count": 54,
     "metadata": {},
     "output_type": "execute_result"
    }
   ],
   "source": [
    "# Initializes a new model instance, loads the previously saved \"best\" weights\n",
    "# (typically from the epoch with the lowest validation loss), and sets the\n",
    "# model to evaluation mode. This prepares the model for unbiased inference,\n",
    "# disabling training-specific behaviors like Dropout and BatchNorm updates.\n",
    "\n",
    "best_model = NeuralNet().to(device)\n",
    "best_model.load_state_dict(torch.load(\"models\\\\best_model.pth\"))\n",
    "best_model.eval()"
   ]
  },
  {
   "cell_type": "code",
   "execution_count": 55,
   "id": "f088994a",
   "metadata": {},
   "outputs": [
    {
     "name": "stderr",
     "output_type": "stream",
     "text": [
      "C:\\Users\\James\\AppData\\Local\\Temp\\ipykernel_19384\\2348888272.py:3: FutureWarning: You are using `torch.load` with `weights_only=False` (the current default value), which uses the default pickle module implicitly. It is possible to construct malicious pickle data which will execute arbitrary code during unpickling (See https://github.com/pytorch/pytorch/blob/main/SECURITY.md#untrusted-models for more details). In a future release, the default value for `weights_only` will be flipped to `True`. This limits the functions that could be executed during unpickling. Arbitrary objects will no longer be allowed to be loaded via this mode unless they are explicitly allowlisted by the user via `torch.serialization.add_safe_globals`. We recommend you start setting `weights_only=True` for any use case where you don't have full control of the loaded file. Please open an issue on GitHub for any issues related to this experimental feature.\n",
      "  net.load_state_dict(torch.load(\"models\\\\best_model.pth\"))\n"
     ]
    },
    {
     "data": {
      "text/plain": [
       "<All keys matched successfully>"
      ]
     },
     "execution_count": 55,
     "metadata": {},
     "output_type": "execute_result"
    }
   ],
   "source": [
    "# Readying our network using the best model for the next step\n",
    "net = NeuralNet()\n",
    "net.load_state_dict(torch.load(\"models\\\\best_model.pth\"))"
   ]
  },
  {
   "cell_type": "markdown",
   "id": "ced4b1d3",
   "metadata": {},
   "source": [
    "### Examining our Best Model's Performance on the Validation Set"
   ]
  },
  {
   "cell_type": "code",
   "execution_count": 56,
   "id": "c34f3f0d",
   "metadata": {},
   "outputs": [],
   "source": [
    "from sklearn.metrics import confusion_matrix, ConfusionMatrixDisplay\n",
    "import matplotlib.pyplot as plt\n",
    "\n",
    "\n",
    "def matrix_vis(labels, preds, set_name):\n",
    "    \"\"\"\n",
    "    Generates and displays a confusion matrix for classification results,\n",
    "    along with per-class accuracy.\n",
    "\n",
    "    This function calculates the confusion matrix, plots it using a 'Blues' colourmap,\n",
    "    adds a title indicating the dataset it represents, and then computes and prints\n",
    "    the accuracy for each individual class.\n",
    "\n",
    "    Args:\n",
    "        labels (array-like):\n",
    "            True labels (ground truth) for the samples.\n",
    "            Expected to be 1D array or list of numeric class IDs.\n",
    "        preds (array-like):\n",
    "            Predicted labels for the samples from the model.\n",
    "            Expected to be 1D array or list of numeric class IDs.\n",
    "        set_name (str):\n",
    "            A descriptive string indicating the dataset being evaluated\n",
    "            (e.g., \"Validation\", \"Test\"). Used in the plot title.\n",
    "\n",
    "    Returns:\n",
    "        None:\n",
    "            This function displays a plot and prints to console; it does not\n",
    "            return any value.\n",
    "    \"\"\"\n",
    "    # Calculate the confusion matrix based on true and predicted labels.\n",
    "    cm = confusion_matrix(labels, preds)\n",
    "\n",
    "    # Create a ConfusionMatrixDisplay object for plotting.\n",
    "    # 'class_names' is assumed to be a global variable or accessible in this scope,\n",
    "    # containing the string names for each class in the correct order.\n",
    "    disp = ConfusionMatrixDisplay(confusion_matrix=cm, display_labels=class_names)\n",
    "\n",
    "    # Plot the confusion matrix with a 'Blues' colormap.\n",
    "    disp.plot(cmap=\"Blues\")\n",
    "    plt.title(f\"Confusion Matrix on {set_name} Set\") # Set the plot title.\n",
    "    plt.show() # Display the plot.\n",
    "\n",
    "    # Calculate per-class accuracy\n",
    "    cm_sum = cm.sum(axis=1, keepdims=True) # Sum of each row (total true instances for each class).\n",
    "    class_acc = (cm.diagonal() / cm_sum.flatten()) * 100 # Diagonal elements (correct predictions) / row sum.\n",
    "\n",
    "    # Print accuracy for each class\n",
    "    for name, acc in zip(class_names, class_acc):\n",
    "        print(f\"{name} Accuracy: {acc:.2f}%\")"
   ]
  },
  {
   "cell_type": "code",
   "execution_count": 57,
   "id": "e6701283",
   "metadata": {},
   "outputs": [
    {
     "data": {
      "image/png": "[encoded data removed]",
      "text/plain": [
       "<Figure size 640x480 with 2 Axes>"
      ]
     },
     "metadata": {},
     "output_type": "display_data"
    },
    {
     "name": "stdout",
     "output_type": "stream",
     "text": [
      "Benign Accuracy: 100.00%\n",
      "Malignant Accuracy: 100.00%\n",
      "Normal Accuracy: 100.00%\n"
     ]
    }
   ],
   "source": [
    "matrix_vis(val_labels, val_preds, set_name=\"Validation\")"
   ]
  },
  {
   "cell_type": "markdown",
   "id": "c97fc71e",
   "metadata": {},
   "source": [
    "Overfitting here was expected as the dataset that was used for training was a combined set of both train plus validation. Just as a reminder it was done as a last resort due to k-Fold Cross Validation not improving the performance, so the smallness of the validation set had to be tackled somehow."
   ]
  },
  {
   "cell_type": "markdown",
   "id": "ec5cd2e0",
   "metadata": {},
   "source": [
    "### Tested on Images from Outside the Dataset"
   ]
  },
  {
   "cell_type": "code",
   "execution_count": 58,
   "id": "33e03cc3",
   "metadata": {},
   "outputs": [
    {
     "name": "stdout",
     "output_type": "stream",
     "text": [
      "Actual: Benign | Prediction: Malignant\n",
      "Actual: Benign | Prediction: Benign\n",
      "Actual: Malignant | Prediction: Benign\n",
      "Actual: Malignant | Prediction: Malignant\n",
      "Actual: Normal | Prediction: Malignant\n",
      "Actual: Normal | Prediction: Benign\n"
     ]
    }
   ],
   "source": [
    "def load_image(image_path):\n",
    "    \"\"\"\n",
    "    Loads a single image from the specified path, preprocesses it,\n",
    "    and prepares it for input into a PyTorch model.\n",
    "\n",
    "    This function performs the following steps:\n",
    "    1. Opens the image using Pillow (PIL.Image.open).\n",
    "    2. Converts the image to RGB format to ensure consistent channel order.\n",
    "    3. Applies a predefined 'transform' pipeline (e.g., resizing, converting to tensor, normalisation).\n",
    "    4. Adds an extra dimension to the tensor (unsqueeze(0)) to represent the batch size.\n",
    "       This is necessary because models typically expect input in the format (Batch_Size, Channels, Height, Width),\n",
    "       even for a single image.\n",
    "\n",
    "    Args:\n",
    "        image_path (str):\n",
    "            The file path to the image to be loaded.\n",
    "\n",
    "    Returns:\n",
    "        torch.Tensor:\n",
    "            A preprocessed image tensor ready for model inference, with a batch dimension.\n",
    "    \"\"\"\n",
    "    image = Image.open(image_path).convert(\"RGB\") # Load image and ensure it's in RGB format.\n",
    "    image = transform(image) # Apply the predefined transformation pipeline (e.g., resize, to_tensor, normalise).\n",
    "    image = image.unsqueeze(0) # Add a batch dimension (e.g., from [C, H, W] to [1, C, H, W]).\n",
    "    return image\n",
    "\n",
    "\n",
    "# This section demonstrates how to use the trained model to make predictions\n",
    "# on a small set of 'outside' images not included in the original dataset splits.\n",
    "# This helps to visualise the model's performance on new, unseen examples.\n",
    "\n",
    "# Define paths to selected images for prediction. These images should be external\n",
    "# to the training/validation/test sets and ideally diverse.\n",
    "image_paths = [\"b1.jpg\", \"b2.jpg\", \"m1.jpg\", \"m2.jpg\", \"n1.jpg\", \"n2.jpg\"]\n",
    "\n",
    "# Load and preprocess each image using the 'load_image' utility function.\n",
    "images = [load_image(\"demo_images\\\\\"+img_path) for img_path in image_paths]\n",
    "\n",
    "# Create an iterator for the actual (true) labels of these external images.\n",
    "# This allows 'next(actual)' to retrieve the correct label sequentially for printing.\n",
    "actual = iter([\"Benign\", \"Benign\", \"Malignant\", \"Malignant\", \"Normal\", \"Normal\"])\n",
    "\n",
    "\n",
    "net.eval() # Set the model to evaluation mode. This disables layers like Dropout and ensures BatchNorm uses learned statistics.\n",
    "with torch.no_grad(): # Disable gradient calculations.\n",
    "    # This reduces memory consumption and speeds up computation during inference,\n",
    "    # as gradients are not needed for predictions.\n",
    "    for image in images:\n",
    "        output = net(image) # Perform a forward pass to get raw model outputs (logits).\n",
    "        _, predicted = torch.max(output, 1) # Get the class with the highest probability/logit as the prediction.\n",
    "                                            # 'predicted' is a tensor, .item() extracts the scalar value.\n",
    "        # Print the actual label (from the iterator) and the model's predicted class name.\n",
    "        print(f\"Actual: {next(actual)} | Prediction: {class_names[predicted.item()]}\")"
   ]
  },
  {
   "cell_type": "markdown",
   "id": "2b8e4d8f",
   "metadata": {},
   "source": [
    "It was quite difficult to gather 6 images from the web that don't have display information or patient and machine data. Furthermore it was difficult to find ultrasound images that were labeled with a category. In most of my runs of the model during the training phase the benign and malignant images seem to be correctly predicted but never the normal liver images. This isn't completely unexpected as there are far fewer 'Normal' images than the other two categories (100 out of 735). It's also not a huge deal as it's a bigger deal to catch a malignant tumor than misclassify a normal liver."
   ]
  },
  {
   "cell_type": "markdown",
   "id": "c6ed71eb",
   "metadata": {},
   "source": [
    "## Best Model on the Test Set"
   ]
  },
  {
   "cell_type": "code",
   "execution_count": 59,
   "id": "b58c61ca",
   "metadata": {},
   "outputs": [],
   "source": [
    "net = net.to(device)"
   ]
  },
  {
   "cell_type": "code",
   "execution_count": 60,
   "id": "504ba2d2",
   "metadata": {},
   "outputs": [
    {
     "name": "stdout",
     "output_type": "stream",
     "text": [
      "Test Accuracy: 78.23%\n",
      "Test Loss: 0.7269\n"
     ]
    }
   ],
   "source": [
    "avg_test_loss, test_acc, test_preds, test_labels = evaluate_model(net, test_loader, criterion, device)\n",
    "\n",
    "print(f\"Test Accuracy: {test_acc:.2f}%\")\n",
    "print(f\"Test Loss: {avg_test_loss:.4f}\")"
   ]
  },
  {
   "cell_type": "code",
   "execution_count": 61,
   "id": "c7ce143e",
   "metadata": {},
   "outputs": [
    {
     "data": {
      "image/png": "[encoded data removed]",
      "text/plain": [
       "<Figure size 640x480 with 2 Axes>"
      ]
     },
     "metadata": {},
     "output_type": "display_data"
    },
    {
     "name": "stdout",
     "output_type": "stream",
     "text": [
      "Benign Accuracy: 57.50%\n",
      "Malignant Accuracy: 90.80%\n",
      "Normal Accuracy: 65.00%\n"
     ]
    }
   ],
   "source": [
    "matrix_vis(test_labels, test_preds, set_name=\"Test\")"
   ]
  },
  {
   "cell_type": "markdown",
   "id": "9fc7bd47",
   "metadata": {},
   "source": [
    "The outcome which would cause most concern would be classifying a malignant tumour as benign (position [1, 0] in the matrix). In my test there are 8 (5.4% of the test data) examples of this. In real life situations further diagnostic tests are typically performed to classify the tumour correctly, and they would need to be if using this model."
   ]
  },
  {
   "cell_type": "markdown",
   "id": "47d9352a",
   "metadata": {},
   "source": [
    "Let's get a classification report of these results to look a little deeper."
   ]
  },
  {
   "cell_type": "code",
   "execution_count": 62,
   "id": "e533be2d",
   "metadata": {},
   "outputs": [
    {
     "name": "stdout",
     "output_type": "stream",
     "text": [
      "Classification Report:\n",
      "              precision    recall  f1-score   support\n",
      "\n",
      "      Benign       0.61      0.57      0.59        40\n",
      "   Malignant       0.85      0.91      0.88        87\n",
      "      Normal       0.81      0.65      0.72        20\n",
      "\n",
      "    accuracy                           0.78       147\n",
      "   macro avg       0.76      0.71      0.73       147\n",
      "weighted avg       0.78      0.78      0.78       147\n",
      "\n",
      "Weighted Precision: 0.7780\n",
      "Weighted Recall:    0.7823\n",
      "Weighted F1 Score:  0.7782\n"
     ]
    }
   ],
   "source": [
    "from sklearn.metrics import classification_report, precision_score, recall_score, f1_score\n",
    "\n",
    "# Classification report\n",
    "print(\"Classification Report:\")\n",
    "print(classification_report(test_labels, test_preds, target_names=class_names))\n",
    "\n",
    "# Individual metrics (weighted average)\n",
    "precision = precision_score(test_labels, test_preds, average='weighted')\n",
    "recall = recall_score(test_labels, test_preds, average='weighted')\n",
    "f1 = f1_score(test_labels, test_preds, average='weighted')\n",
    "\n",
    "print(f\"Weighted Precision: {precision:.4f}\")\n",
    "print(f\"Weighted Recall:    {recall:.4f}\")\n",
    "print(f\"Weighted F1 Score:  {f1:.4f}\")\n"
   ]
  },
  {
   "cell_type": "markdown",
   "id": "2567144a",
   "metadata": {},
   "source": [
    "Most importantly the malignant cases have both high precision and recall which is a priority in medical applications. Normal cases are performing well and benign cases are performing weaker. As seen in the confusion matrix the model often confuses benign cases as malignant which is likely due to class imbalance (most of the images are of malignant cases)."
   ]
  }
 ],
 "metadata": {
  "kernelspec": {
   "display_name": "Python 3.11 + CUDA",
   "language": "python",
   "name": "py311-env"
  },
  "language_info": {
   "codemirror_mode": {
    "name": "ipython",
    "version": 3
   },
   "file_extension": ".py",
   "mimetype": "text/x-python",
   "name": "python",
   "nbconvert_exporter": "python",
   "pygments_lexer": "ipython3",
   "version": "3.11.9"
  }
 },
 "nbformat": 4,
 "nbformat_minor": 5
}
